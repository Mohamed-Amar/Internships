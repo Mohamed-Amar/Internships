{
 "cells": [
  {
   "cell_type": "markdown",
   "id": "bc4aa64c",
   "metadata": {},
   "source": [
    "## **Import libraries**"
   ]
  },
  {
   "cell_type": "code",
   "execution_count": 478,
   "id": "76bc9970",
   "metadata": {},
   "outputs": [],
   "source": [
    "import pandas as pd\n",
    "import numpy as np\n",
    "import seaborn as sns\n",
    "import matplotlib.pyplot as plt\n",
    "from sklearn.model_selection import train_test_split\n",
    "from sklearn.preprocessing import LabelEncoder\n",
    "from sklearn.preprocessing import MinMaxScaler"
   ]
  },
  {
   "cell_type": "markdown",
   "id": "4cc8e80f",
   "metadata": {},
   "source": [
    "# **Reading Data**"
   ]
  },
  {
   "cell_type": "code",
   "execution_count": 479,
   "id": "3fdb314f",
   "metadata": {},
   "outputs": [],
   "source": [
    "data=pd.read_csv('first inten project.csv')"
   ]
  },
  {
   "cell_type": "code",
   "execution_count": 480,
   "id": "1a7e302c",
   "metadata": {},
   "outputs": [],
   "source": [
    "data.columns=['id','adults','children','weekend_nights','week_night','meal','parking','room_type','lead_time','market','repeated','canceled_book','not canceled_book','price','special_requests','date','output']"
   ]
  },
  {
   "cell_type": "code",
   "execution_count": 481,
   "id": "d6b6f273",
   "metadata": {},
   "outputs": [
    {
     "data": {
      "text/html": [
       "<div>\n",
       "<style scoped>\n",
       "    .dataframe tbody tr th:only-of-type {\n",
       "        vertical-align: middle;\n",
       "    }\n",
       "\n",
       "    .dataframe tbody tr th {\n",
       "        vertical-align: top;\n",
       "    }\n",
       "\n",
       "    .dataframe thead th {\n",
       "        text-align: right;\n",
       "    }\n",
       "</style>\n",
       "<table border=\"1\" class=\"dataframe\">\n",
       "  <thead>\n",
       "    <tr style=\"text-align: right;\">\n",
       "      <th></th>\n",
       "      <th>id</th>\n",
       "      <th>adults</th>\n",
       "      <th>children</th>\n",
       "      <th>weekend_nights</th>\n",
       "      <th>week_night</th>\n",
       "      <th>meal</th>\n",
       "      <th>parking</th>\n",
       "      <th>room_type</th>\n",
       "      <th>lead_time</th>\n",
       "      <th>market</th>\n",
       "      <th>repeated</th>\n",
       "      <th>canceled_book</th>\n",
       "      <th>not canceled_book</th>\n",
       "      <th>price</th>\n",
       "      <th>special_requests</th>\n",
       "      <th>date</th>\n",
       "      <th>output</th>\n",
       "    </tr>\n",
       "  </thead>\n",
       "  <tbody>\n",
       "    <tr>\n",
       "      <th>0</th>\n",
       "      <td>INN00001</td>\n",
       "      <td>1</td>\n",
       "      <td>1</td>\n",
       "      <td>2</td>\n",
       "      <td>5</td>\n",
       "      <td>Meal Plan 1</td>\n",
       "      <td>0</td>\n",
       "      <td>Room_Type 1</td>\n",
       "      <td>224</td>\n",
       "      <td>Offline</td>\n",
       "      <td>0</td>\n",
       "      <td>0</td>\n",
       "      <td>0</td>\n",
       "      <td>88.00</td>\n",
       "      <td>0</td>\n",
       "      <td>10/2/2015</td>\n",
       "      <td>Not_Canceled</td>\n",
       "    </tr>\n",
       "    <tr>\n",
       "      <th>1</th>\n",
       "      <td>INN00002</td>\n",
       "      <td>1</td>\n",
       "      <td>0</td>\n",
       "      <td>1</td>\n",
       "      <td>3</td>\n",
       "      <td>Not Selected</td>\n",
       "      <td>0</td>\n",
       "      <td>Room_Type 1</td>\n",
       "      <td>5</td>\n",
       "      <td>Online</td>\n",
       "      <td>0</td>\n",
       "      <td>0</td>\n",
       "      <td>0</td>\n",
       "      <td>106.68</td>\n",
       "      <td>1</td>\n",
       "      <td>11/6/2018</td>\n",
       "      <td>Not_Canceled</td>\n",
       "    </tr>\n",
       "    <tr>\n",
       "      <th>2</th>\n",
       "      <td>INN00003</td>\n",
       "      <td>2</td>\n",
       "      <td>1</td>\n",
       "      <td>1</td>\n",
       "      <td>3</td>\n",
       "      <td>Meal Plan 1</td>\n",
       "      <td>0</td>\n",
       "      <td>Room_Type 1</td>\n",
       "      <td>1</td>\n",
       "      <td>Online</td>\n",
       "      <td>0</td>\n",
       "      <td>0</td>\n",
       "      <td>0</td>\n",
       "      <td>50.00</td>\n",
       "      <td>0</td>\n",
       "      <td>2/28/2018</td>\n",
       "      <td>Canceled</td>\n",
       "    </tr>\n",
       "    <tr>\n",
       "      <th>3</th>\n",
       "      <td>INN00004</td>\n",
       "      <td>1</td>\n",
       "      <td>0</td>\n",
       "      <td>0</td>\n",
       "      <td>2</td>\n",
       "      <td>Meal Plan 1</td>\n",
       "      <td>0</td>\n",
       "      <td>Room_Type 1</td>\n",
       "      <td>211</td>\n",
       "      <td>Online</td>\n",
       "      <td>0</td>\n",
       "      <td>0</td>\n",
       "      <td>0</td>\n",
       "      <td>100.00</td>\n",
       "      <td>1</td>\n",
       "      <td>5/20/2017</td>\n",
       "      <td>Canceled</td>\n",
       "    </tr>\n",
       "    <tr>\n",
       "      <th>4</th>\n",
       "      <td>INN00005</td>\n",
       "      <td>1</td>\n",
       "      <td>0</td>\n",
       "      <td>1</td>\n",
       "      <td>2</td>\n",
       "      <td>Not Selected</td>\n",
       "      <td>0</td>\n",
       "      <td>Room_Type 1</td>\n",
       "      <td>48</td>\n",
       "      <td>Online</td>\n",
       "      <td>0</td>\n",
       "      <td>0</td>\n",
       "      <td>0</td>\n",
       "      <td>77.00</td>\n",
       "      <td>0</td>\n",
       "      <td>4/11/2018</td>\n",
       "      <td>Canceled</td>\n",
       "    </tr>\n",
       "  </tbody>\n",
       "</table>\n",
       "</div>"
      ],
      "text/plain": [
       "         id  adults  children  weekend_nights  week_night          meal  \\\n",
       "0  INN00001       1         1               2           5   Meal Plan 1   \n",
       "1  INN00002       1         0               1           3  Not Selected   \n",
       "2  INN00003       2         1               1           3   Meal Plan 1   \n",
       "3  INN00004       1         0               0           2   Meal Plan 1   \n",
       "4  INN00005       1         0               1           2  Not Selected   \n",
       "\n",
       "   parking    room_type  lead_time   market  repeated  canceled_book  \\\n",
       "0        0  Room_Type 1        224  Offline         0              0   \n",
       "1        0  Room_Type 1          5   Online         0              0   \n",
       "2        0  Room_Type 1          1   Online         0              0   \n",
       "3        0  Room_Type 1        211   Online         0              0   \n",
       "4        0  Room_Type 1         48   Online         0              0   \n",
       "\n",
       "   not canceled_book   price  special_requests       date        output  \n",
       "0                  0   88.00                 0  10/2/2015  Not_Canceled  \n",
       "1                  0  106.68                 1  11/6/2018  Not_Canceled  \n",
       "2                  0   50.00                 0  2/28/2018      Canceled  \n",
       "3                  0  100.00                 1  5/20/2017      Canceled  \n",
       "4                  0   77.00                 0  4/11/2018      Canceled  "
      ]
     },
     "execution_count": 481,
     "metadata": {},
     "output_type": "execute_result"
    }
   ],
   "source": [
    "data.head()"
   ]
  },
  {
   "cell_type": "code",
   "execution_count": 482,
   "id": "9c9ffa28",
   "metadata": {},
   "outputs": [
    {
     "data": {
      "text/html": [
       "<div>\n",
       "<style scoped>\n",
       "    .dataframe tbody tr th:only-of-type {\n",
       "        vertical-align: middle;\n",
       "    }\n",
       "\n",
       "    .dataframe tbody tr th {\n",
       "        vertical-align: top;\n",
       "    }\n",
       "\n",
       "    .dataframe thead th {\n",
       "        text-align: right;\n",
       "    }\n",
       "</style>\n",
       "<table border=\"1\" class=\"dataframe\">\n",
       "  <thead>\n",
       "    <tr style=\"text-align: right;\">\n",
       "      <th></th>\n",
       "      <th>id</th>\n",
       "      <th>adults</th>\n",
       "      <th>children</th>\n",
       "      <th>weekend_nights</th>\n",
       "      <th>week_night</th>\n",
       "      <th>meal</th>\n",
       "      <th>parking</th>\n",
       "      <th>room_type</th>\n",
       "      <th>lead_time</th>\n",
       "      <th>market</th>\n",
       "      <th>repeated</th>\n",
       "      <th>canceled_book</th>\n",
       "      <th>not canceled_book</th>\n",
       "      <th>price</th>\n",
       "      <th>special_requests</th>\n",
       "      <th>date</th>\n",
       "      <th>output</th>\n",
       "    </tr>\n",
       "  </thead>\n",
       "  <tbody>\n",
       "    <tr>\n",
       "      <th>36280</th>\n",
       "      <td>INN36282</td>\n",
       "      <td>2</td>\n",
       "      <td>0</td>\n",
       "      <td>0</td>\n",
       "      <td>2</td>\n",
       "      <td>Meal Plan 2</td>\n",
       "      <td>0</td>\n",
       "      <td>Room_Type 1</td>\n",
       "      <td>346</td>\n",
       "      <td>Online</td>\n",
       "      <td>0</td>\n",
       "      <td>0</td>\n",
       "      <td>0</td>\n",
       "      <td>115.00</td>\n",
       "      <td>1</td>\n",
       "      <td>9/13/2018</td>\n",
       "      <td>Canceled</td>\n",
       "    </tr>\n",
       "    <tr>\n",
       "      <th>36281</th>\n",
       "      <td>INN36283</td>\n",
       "      <td>2</td>\n",
       "      <td>0</td>\n",
       "      <td>1</td>\n",
       "      <td>3</td>\n",
       "      <td>Meal Plan 1</td>\n",
       "      <td>0</td>\n",
       "      <td>Room_Type 1</td>\n",
       "      <td>34</td>\n",
       "      <td>Online</td>\n",
       "      <td>0</td>\n",
       "      <td>0</td>\n",
       "      <td>0</td>\n",
       "      <td>107.55</td>\n",
       "      <td>1</td>\n",
       "      <td>10/15/2017</td>\n",
       "      <td>Not_Canceled</td>\n",
       "    </tr>\n",
       "    <tr>\n",
       "      <th>36282</th>\n",
       "      <td>INN36284</td>\n",
       "      <td>2</td>\n",
       "      <td>0</td>\n",
       "      <td>1</td>\n",
       "      <td>3</td>\n",
       "      <td>Meal Plan 1</td>\n",
       "      <td>0</td>\n",
       "      <td>Room_Type 4</td>\n",
       "      <td>83</td>\n",
       "      <td>Online</td>\n",
       "      <td>0</td>\n",
       "      <td>0</td>\n",
       "      <td>0</td>\n",
       "      <td>105.61</td>\n",
       "      <td>1</td>\n",
       "      <td>12/26/2018</td>\n",
       "      <td>Not_Canceled</td>\n",
       "    </tr>\n",
       "    <tr>\n",
       "      <th>36283</th>\n",
       "      <td>INN36285</td>\n",
       "      <td>3</td>\n",
       "      <td>0</td>\n",
       "      <td>0</td>\n",
       "      <td>4</td>\n",
       "      <td>Meal Plan 1</td>\n",
       "      <td>0</td>\n",
       "      <td>Room_Type 1</td>\n",
       "      <td>121</td>\n",
       "      <td>Offline</td>\n",
       "      <td>0</td>\n",
       "      <td>0</td>\n",
       "      <td>0</td>\n",
       "      <td>96.90</td>\n",
       "      <td>1</td>\n",
       "      <td>7/6/2018</td>\n",
       "      <td>Not_Canceled</td>\n",
       "    </tr>\n",
       "    <tr>\n",
       "      <th>36284</th>\n",
       "      <td>INN36286</td>\n",
       "      <td>2</td>\n",
       "      <td>0</td>\n",
       "      <td>0</td>\n",
       "      <td>5</td>\n",
       "      <td>Meal Plan 1</td>\n",
       "      <td>0</td>\n",
       "      <td>Room_Type 4</td>\n",
       "      <td>44</td>\n",
       "      <td>Online</td>\n",
       "      <td>0</td>\n",
       "      <td>0</td>\n",
       "      <td>0</td>\n",
       "      <td>133.44</td>\n",
       "      <td>3</td>\n",
       "      <td>10/18/2018</td>\n",
       "      <td>Not_Canceled</td>\n",
       "    </tr>\n",
       "  </tbody>\n",
       "</table>\n",
       "</div>"
      ],
      "text/plain": [
       "             id  adults  children  weekend_nights  week_night         meal  \\\n",
       "36280  INN36282       2         0               0           2  Meal Plan 2   \n",
       "36281  INN36283       2         0               1           3  Meal Plan 1   \n",
       "36282  INN36284       2         0               1           3  Meal Plan 1   \n",
       "36283  INN36285       3         0               0           4  Meal Plan 1   \n",
       "36284  INN36286       2         0               0           5  Meal Plan 1   \n",
       "\n",
       "       parking    room_type  lead_time   market  repeated  canceled_book  \\\n",
       "36280        0  Room_Type 1        346   Online         0              0   \n",
       "36281        0  Room_Type 1         34   Online         0              0   \n",
       "36282        0  Room_Type 4         83   Online         0              0   \n",
       "36283        0  Room_Type 1        121  Offline         0              0   \n",
       "36284        0  Room_Type 4         44   Online         0              0   \n",
       "\n",
       "       not canceled_book   price  special_requests        date        output  \n",
       "36280                  0  115.00                 1   9/13/2018      Canceled  \n",
       "36281                  0  107.55                 1  10/15/2017  Not_Canceled  \n",
       "36282                  0  105.61                 1  12/26/2018  Not_Canceled  \n",
       "36283                  0   96.90                 1    7/6/2018  Not_Canceled  \n",
       "36284                  0  133.44                 3  10/18/2018  Not_Canceled  "
      ]
     },
     "execution_count": 482,
     "metadata": {},
     "output_type": "execute_result"
    }
   ],
   "source": [
    "data.tail()"
   ]
  },
  {
   "cell_type": "code",
   "execution_count": 483,
   "id": "cce58116",
   "metadata": {},
   "outputs": [
    {
     "data": {
      "text/plain": [
       "id                   0\n",
       "adults               0\n",
       "children             0\n",
       "weekend_nights       0\n",
       "week_night           0\n",
       "meal                 0\n",
       "parking              0\n",
       "room_type            0\n",
       "lead_time            0\n",
       "market               0\n",
       "repeated             0\n",
       "canceled_book        0\n",
       "not canceled_book    0\n",
       "price                0\n",
       "special_requests     0\n",
       "date                 0\n",
       "output               0\n",
       "dtype: int64"
      ]
     },
     "execution_count": 483,
     "metadata": {},
     "output_type": "execute_result"
    }
   ],
   "source": [
    "data.isnull().sum()"
   ]
  },
  {
   "cell_type": "code",
   "execution_count": 484,
   "id": "21326f9b",
   "metadata": {},
   "outputs": [
    {
     "data": {
      "text/plain": [
       "0"
      ]
     },
     "execution_count": 484,
     "metadata": {},
     "output_type": "execute_result"
    }
   ],
   "source": [
    "data.duplicated().sum()"
   ]
  },
  {
   "cell_type": "markdown",
   "id": "104369d1",
   "metadata": {},
   "source": [
    "## **Cleaning**"
   ]
  },
  {
   "cell_type": "code",
   "execution_count": 485,
   "id": "f49ac906",
   "metadata": {},
   "outputs": [
    {
     "data": {
      "text/plain": [
       "Index(['id', 'adults', 'children', 'weekend_nights', 'week_night', 'meal',\n",
       "       'parking', 'room_type', 'lead_time', 'market', 'repeated',\n",
       "       'canceled_book', 'not canceled_book', 'price', 'special_requests',\n",
       "       'date', 'output'],\n",
       "      dtype='object')"
      ]
     },
     "execution_count": 485,
     "metadata": {},
     "output_type": "execute_result"
    }
   ],
   "source": [
    "data.columns"
   ]
  },
  {
   "cell_type": "code",
   "execution_count": 486,
   "id": "e0637d5d",
   "metadata": {},
   "outputs": [
    {
     "data": {
      "text/plain": [
       "adults\n",
       "2    26110\n",
       "1     7702\n",
       "3     2318\n",
       "0      139\n",
       "4       16\n",
       "Name: count, dtype: int64"
      ]
     },
     "execution_count": 486,
     "metadata": {},
     "output_type": "execute_result"
    }
   ],
   "source": [
    "data['adults'].value_counts()"
   ]
  },
  {
   "cell_type": "code",
   "execution_count": 487,
   "id": "880bb779",
   "metadata": {},
   "outputs": [],
   "source": [
    "data = data.query(\"adults not in [0, 4]\")"
   ]
  },
  {
   "cell_type": "code",
   "execution_count": 488,
   "id": "70e64273",
   "metadata": {},
   "outputs": [
    {
     "data": {
      "text/plain": [
       "children\n",
       "0     33567\n",
       "1      1621\n",
       "2       925\n",
       "3        14\n",
       "9         2\n",
       "10        1\n",
       "Name: count, dtype: int64"
      ]
     },
     "execution_count": 488,
     "metadata": {},
     "output_type": "execute_result"
    }
   ],
   "source": [
    "data['children'].value_counts()"
   ]
  },
  {
   "cell_type": "code",
   "execution_count": 489,
   "id": "54b6f35f",
   "metadata": {},
   "outputs": [],
   "source": [
    "data=data.query(\"children not in [10,9,3]\")"
   ]
  },
  {
   "cell_type": "code",
   "execution_count": 490,
   "id": "1508c50a",
   "metadata": {},
   "outputs": [
    {
     "data": {
      "text/plain": [
       "weekend_nights\n",
       "0    16797\n",
       "1     9964\n",
       "2     9016\n",
       "3      152\n",
       "4      129\n",
       "5       34\n",
       "6       20\n",
       "7        1\n",
       "Name: count, dtype: int64"
      ]
     },
     "execution_count": 490,
     "metadata": {},
     "output_type": "execute_result"
    }
   ],
   "source": [
    "data['weekend_nights'].value_counts()"
   ]
  },
  {
   "cell_type": "code",
   "execution_count": 491,
   "id": "22861b6a",
   "metadata": {},
   "outputs": [
    {
     "data": {
      "text/plain": [
       "week_night\n",
       "2     11400\n",
       "1      9442\n",
       "3      7793\n",
       "4      2980\n",
       "0      2379\n",
       "5      1608\n",
       "6       189\n",
       "7       113\n",
       "8        62\n",
       "10       61\n",
       "9        33\n",
       "11       17\n",
       "15       10\n",
       "12        9\n",
       "14        7\n",
       "13        5\n",
       "17        3\n",
       "16        2\n",
       "Name: count, dtype: int64"
      ]
     },
     "execution_count": 491,
     "metadata": {},
     "output_type": "execute_result"
    }
   ],
   "source": [
    "data['week_night'].value_counts()"
   ]
  },
  {
   "cell_type": "code",
   "execution_count": 492,
   "id": "7aed0ef9",
   "metadata": {},
   "outputs": [],
   "source": [
    "data=data.query(\"week_night not in [16,17,13,14,12]\")"
   ]
  },
  {
   "cell_type": "code",
   "execution_count": 493,
   "id": "29b1942a",
   "metadata": {},
   "outputs": [
    {
     "data": {
      "text/plain": [
       "meal\n",
       "Meal Plan 1     27655\n",
       "Not Selected     5125\n",
       "Meal Plan 2      3302\n",
       "Meal Plan 3         5\n",
       "Name: count, dtype: int64"
      ]
     },
     "execution_count": 493,
     "metadata": {},
     "output_type": "execute_result"
    }
   ],
   "source": [
    "data['meal'].value_counts()"
   ]
  },
  {
   "cell_type": "code",
   "execution_count": 494,
   "id": "f4f12a1e",
   "metadata": {},
   "outputs": [],
   "source": [
    "data = data.query(\"meal not in ['Meal Plan 3']\")"
   ]
  },
  {
   "cell_type": "code",
   "execution_count": 495,
   "id": "b5fd0bfd",
   "metadata": {},
   "outputs": [
    {
     "data": {
      "text/plain": [
       "canceled_book\n",
       "0     35744\n",
       "1       198\n",
       "2        46\n",
       "3        43\n",
       "11       25\n",
       "5        11\n",
       "4        10\n",
       "13        4\n",
       "6         1\n",
       "Name: count, dtype: int64"
      ]
     },
     "execution_count": 495,
     "metadata": {},
     "output_type": "execute_result"
    }
   ],
   "source": [
    "data['canceled_book'].value_counts()"
   ]
  },
  {
   "cell_type": "code",
   "execution_count": 496,
   "id": "0bca655f",
   "metadata": {},
   "outputs": [],
   "source": [
    "data=data.query(\"canceled_book not in [6,13,4,5,11] \")"
   ]
  },
  {
   "cell_type": "code",
   "execution_count": 497,
   "id": "64d02d2e",
   "metadata": {},
   "outputs": [
    {
     "data": {
      "text/plain": [
       "parking\n",
       "0    34916\n",
       "1     1115\n",
       "Name: count, dtype: int64"
      ]
     },
     "execution_count": 497,
     "metadata": {},
     "output_type": "execute_result"
    }
   ],
   "source": [
    "data['parking'].value_counts()"
   ]
  },
  {
   "cell_type": "code",
   "execution_count": 498,
   "id": "4a838f28",
   "metadata": {},
   "outputs": [
    {
     "data": {
      "text/plain": [
       "room_type\n",
       "Room_Type 1    28072\n",
       "Room_Type 4     6046\n",
       "Room_Type 6      958\n",
       "Room_Type 2      557\n",
       "Room_Type 5      263\n",
       "Room_Type 7      128\n",
       "Room_Type 3        7\n",
       "Name: count, dtype: int64"
      ]
     },
     "execution_count": 498,
     "metadata": {},
     "output_type": "execute_result"
    }
   ],
   "source": [
    "data['room_type'].value_counts()"
   ]
  },
  {
   "cell_type": "code",
   "execution_count": 499,
   "id": "8e8ee5f6",
   "metadata": {},
   "outputs": [],
   "source": [
    "data=data.query(\"room_type not in ['Room_Type 3']\")"
   ]
  },
  {
   "cell_type": "code",
   "execution_count": 500,
   "id": "2d0005d9",
   "metadata": {},
   "outputs": [
    {
     "data": {
      "text/plain": [
       "market\n",
       "Online           23009\n",
       "Offline          10521\n",
       "Corporate         1997\n",
       "Complementary      372\n",
       "Aviation           125\n",
       "Name: count, dtype: int64"
      ]
     },
     "execution_count": 500,
     "metadata": {},
     "output_type": "execute_result"
    }
   ],
   "source": [
    "data['market'].value_counts()"
   ]
  },
  {
   "cell_type": "code",
   "execution_count": 501,
   "id": "9302cdef",
   "metadata": {},
   "outputs": [],
   "source": [
    "data=data.query(\"market not in ['Complementary','Aviation']\")"
   ]
  },
  {
   "cell_type": "code",
   "execution_count": 502,
   "id": "b376d573",
   "metadata": {},
   "outputs": [
    {
     "data": {
      "text/plain": [
       "repeated\n",
       "0    34784\n",
       "1      743\n",
       "Name: count, dtype: int64"
      ]
     },
     "execution_count": 502,
     "metadata": {},
     "output_type": "execute_result"
    }
   ],
   "source": [
    "data['repeated'].value_counts()"
   ]
  },
  {
   "cell_type": "code",
   "execution_count": 503,
   "id": "44d57b3c",
   "metadata": {},
   "outputs": [],
   "source": [
    "data=data.query(\"repeated not in [1]\")"
   ]
  },
  {
   "cell_type": "code",
   "execution_count": 504,
   "id": "faf911cd",
   "metadata": {},
   "outputs": [
    {
     "data": {
      "text/plain": [
       "not canceled_book\n",
       "0    34784\n",
       "Name: count, dtype: int64"
      ]
     },
     "execution_count": 504,
     "metadata": {},
     "output_type": "execute_result"
    }
   ],
   "source": [
    "data['not canceled_book'].value_counts()"
   ]
  },
  {
   "cell_type": "code",
   "execution_count": 505,
   "id": "daae38c1",
   "metadata": {},
   "outputs": [
    {
     "data": {
      "text/plain": [
       "special_requests\n",
       "0    18929\n",
       "1    10898\n",
       "2     4241\n",
       "3      644\n",
       "4       64\n",
       "5        8\n",
       "Name: count, dtype: int64"
      ]
     },
     "execution_count": 505,
     "metadata": {},
     "output_type": "execute_result"
    }
   ],
   "source": [
    "data['special_requests'].value_counts()"
   ]
  },
  {
   "cell_type": "code",
   "execution_count": 506,
   "id": "49c836ff",
   "metadata": {},
   "outputs": [],
   "source": [
    "data=data.query(\"special_requests not in [5,4]\")"
   ]
  },
  {
   "cell_type": "code",
   "execution_count": 507,
   "id": "7c6e0f16",
   "metadata": {},
   "outputs": [
    {
     "data": {
      "text/plain": [
       "(34712, 17)"
      ]
     },
     "execution_count": 507,
     "metadata": {},
     "output_type": "execute_result"
    }
   ],
   "source": [
    "data.shape"
   ]
  },
  {
   "cell_type": "markdown",
   "id": "0be150e0",
   "metadata": {},
   "source": [
    "## **EDA**"
   ]
  },
  {
   "cell_type": "code",
   "execution_count": 508,
   "id": "e837beee",
   "metadata": {},
   "outputs": [
    {
     "name": "stdout",
     "output_type": "stream",
     "text": [
      "<class 'pandas.core.frame.DataFrame'>\n",
      "Index: 34712 entries, 0 to 36284\n",
      "Data columns (total 17 columns):\n",
      " #   Column             Non-Null Count  Dtype  \n",
      "---  ------             --------------  -----  \n",
      " 0   id                 34712 non-null  object \n",
      " 1   adults             34712 non-null  int64  \n",
      " 2   children           34712 non-null  int64  \n",
      " 3   weekend_nights     34712 non-null  int64  \n",
      " 4   week_night         34712 non-null  int64  \n",
      " 5   meal               34712 non-null  object \n",
      " 6   parking            34712 non-null  int64  \n",
      " 7   room_type          34712 non-null  object \n",
      " 8   lead_time          34712 non-null  int64  \n",
      " 9   market             34712 non-null  object \n",
      " 10  repeated           34712 non-null  int64  \n",
      " 11  canceled_book      34712 non-null  int64  \n",
      " 12  not canceled_book  34712 non-null  int64  \n",
      " 13  price              34712 non-null  float64\n",
      " 14  special_requests   34712 non-null  int64  \n",
      " 15  date               34712 non-null  object \n",
      " 16  output             34712 non-null  object \n",
      "dtypes: float64(1), int64(10), object(6)\n",
      "memory usage: 4.8+ MB\n"
     ]
    }
   ],
   "source": [
    "data.info()"
   ]
  },
  {
   "cell_type": "code",
   "execution_count": 509,
   "id": "ac17ad8a",
   "metadata": {},
   "outputs": [
    {
     "data": {
      "text/html": [
       "<div>\n",
       "<style scoped>\n",
       "    .dataframe tbody tr th:only-of-type {\n",
       "        vertical-align: middle;\n",
       "    }\n",
       "\n",
       "    .dataframe tbody tr th {\n",
       "        vertical-align: top;\n",
       "    }\n",
       "\n",
       "    .dataframe thead th {\n",
       "        text-align: right;\n",
       "    }\n",
       "</style>\n",
       "<table border=\"1\" class=\"dataframe\">\n",
       "  <thead>\n",
       "    <tr style=\"text-align: right;\">\n",
       "      <th></th>\n",
       "      <th>adults</th>\n",
       "      <th>children</th>\n",
       "      <th>weekend_nights</th>\n",
       "      <th>week_night</th>\n",
       "      <th>parking</th>\n",
       "      <th>lead_time</th>\n",
       "      <th>repeated</th>\n",
       "      <th>canceled_book</th>\n",
       "      <th>not canceled_book</th>\n",
       "      <th>price</th>\n",
       "      <th>special_requests</th>\n",
       "    </tr>\n",
       "  </thead>\n",
       "  <tbody>\n",
       "    <tr>\n",
       "      <th>count</th>\n",
       "      <td>34712.000000</td>\n",
       "      <td>34712.000000</td>\n",
       "      <td>34712.000000</td>\n",
       "      <td>34712.000000</td>\n",
       "      <td>34712.000000</td>\n",
       "      <td>34712.000000</td>\n",
       "      <td>34712.0</td>\n",
       "      <td>34712.0</td>\n",
       "      <td>34712.0</td>\n",
       "      <td>34712.000000</td>\n",
       "      <td>34712.000000</td>\n",
       "    </tr>\n",
       "    <tr>\n",
       "      <th>mean</th>\n",
       "      <td>1.872119</td>\n",
       "      <td>0.098208</td>\n",
       "      <td>0.817671</td>\n",
       "      <td>2.221681</td>\n",
       "      <td>0.027512</td>\n",
       "      <td>87.959236</td>\n",
       "      <td>0.0</td>\n",
       "      <td>0.0</td>\n",
       "      <td>0.0</td>\n",
       "      <td>105.156783</td>\n",
       "      <td>0.613966</td>\n",
       "    </tr>\n",
       "    <tr>\n",
       "      <th>std</th>\n",
       "      <td>0.493901</td>\n",
       "      <td>0.375498</td>\n",
       "      <td>0.860214</td>\n",
       "      <td>1.367728</td>\n",
       "      <td>0.163572</td>\n",
       "      <td>86.176448</td>\n",
       "      <td>0.0</td>\n",
       "      <td>0.0</td>\n",
       "      <td>0.0</td>\n",
       "      <td>33.441488</td>\n",
       "      <td>0.769869</td>\n",
       "    </tr>\n",
       "    <tr>\n",
       "      <th>min</th>\n",
       "      <td>1.000000</td>\n",
       "      <td>0.000000</td>\n",
       "      <td>0.000000</td>\n",
       "      <td>0.000000</td>\n",
       "      <td>0.000000</td>\n",
       "      <td>0.000000</td>\n",
       "      <td>0.0</td>\n",
       "      <td>0.0</td>\n",
       "      <td>0.0</td>\n",
       "      <td>0.000000</td>\n",
       "      <td>0.000000</td>\n",
       "    </tr>\n",
       "    <tr>\n",
       "      <th>25%</th>\n",
       "      <td>2.000000</td>\n",
       "      <td>0.000000</td>\n",
       "      <td>0.000000</td>\n",
       "      <td>1.000000</td>\n",
       "      <td>0.000000</td>\n",
       "      <td>20.000000</td>\n",
       "      <td>0.0</td>\n",
       "      <td>0.0</td>\n",
       "      <td>0.0</td>\n",
       "      <td>81.250000</td>\n",
       "      <td>0.000000</td>\n",
       "    </tr>\n",
       "    <tr>\n",
       "      <th>50%</th>\n",
       "      <td>2.000000</td>\n",
       "      <td>0.000000</td>\n",
       "      <td>1.000000</td>\n",
       "      <td>2.000000</td>\n",
       "      <td>0.000000</td>\n",
       "      <td>61.000000</td>\n",
       "      <td>0.0</td>\n",
       "      <td>0.0</td>\n",
       "      <td>0.0</td>\n",
       "      <td>100.000000</td>\n",
       "      <td>0.000000</td>\n",
       "    </tr>\n",
       "    <tr>\n",
       "      <th>75%</th>\n",
       "      <td>2.000000</td>\n",
       "      <td>0.000000</td>\n",
       "      <td>2.000000</td>\n",
       "      <td>3.000000</td>\n",
       "      <td>0.000000</td>\n",
       "      <td>131.000000</td>\n",
       "      <td>0.0</td>\n",
       "      <td>0.0</td>\n",
       "      <td>0.0</td>\n",
       "      <td>121.500000</td>\n",
       "      <td>1.000000</td>\n",
       "    </tr>\n",
       "    <tr>\n",
       "      <th>max</th>\n",
       "      <td>3.000000</td>\n",
       "      <td>2.000000</td>\n",
       "      <td>6.000000</td>\n",
       "      <td>15.000000</td>\n",
       "      <td>1.000000</td>\n",
       "      <td>443.000000</td>\n",
       "      <td>0.0</td>\n",
       "      <td>0.0</td>\n",
       "      <td>0.0</td>\n",
       "      <td>540.000000</td>\n",
       "      <td>3.000000</td>\n",
       "    </tr>\n",
       "  </tbody>\n",
       "</table>\n",
       "</div>"
      ],
      "text/plain": [
       "             adults      children  weekend_nights    week_night       parking  \\\n",
       "count  34712.000000  34712.000000    34712.000000  34712.000000  34712.000000   \n",
       "mean       1.872119      0.098208        0.817671      2.221681      0.027512   \n",
       "std        0.493901      0.375498        0.860214      1.367728      0.163572   \n",
       "min        1.000000      0.000000        0.000000      0.000000      0.000000   \n",
       "25%        2.000000      0.000000        0.000000      1.000000      0.000000   \n",
       "50%        2.000000      0.000000        1.000000      2.000000      0.000000   \n",
       "75%        2.000000      0.000000        2.000000      3.000000      0.000000   \n",
       "max        3.000000      2.000000        6.000000     15.000000      1.000000   \n",
       "\n",
       "          lead_time  repeated  canceled_book  not canceled_book         price  \\\n",
       "count  34712.000000   34712.0        34712.0            34712.0  34712.000000   \n",
       "mean      87.959236       0.0            0.0                0.0    105.156783   \n",
       "std       86.176448       0.0            0.0                0.0     33.441488   \n",
       "min        0.000000       0.0            0.0                0.0      0.000000   \n",
       "25%       20.000000       0.0            0.0                0.0     81.250000   \n",
       "50%       61.000000       0.0            0.0                0.0    100.000000   \n",
       "75%      131.000000       0.0            0.0                0.0    121.500000   \n",
       "max      443.000000       0.0            0.0                0.0    540.000000   \n",
       "\n",
       "       special_requests  \n",
       "count      34712.000000  \n",
       "mean           0.613966  \n",
       "std            0.769869  \n",
       "min            0.000000  \n",
       "25%            0.000000  \n",
       "50%            0.000000  \n",
       "75%            1.000000  \n",
       "max            3.000000  "
      ]
     },
     "execution_count": 509,
     "metadata": {},
     "output_type": "execute_result"
    }
   ],
   "source": [
    "data.describe()"
   ]
  },
  {
   "cell_type": "code",
   "execution_count": 510,
   "id": "688b336d",
   "metadata": {},
   "outputs": [],
   "source": [
    "data['price']=data['price'].astype(int)"
   ]
  },
  {
   "cell_type": "code",
   "execution_count": 511,
   "id": "c39f6a09",
   "metadata": {},
   "outputs": [
    {
     "data": {
      "text/plain": [
       "id                   0\n",
       "adults               0\n",
       "children             0\n",
       "weekend_nights       0\n",
       "week_night           0\n",
       "meal                 0\n",
       "parking              0\n",
       "room_type            0\n",
       "lead_time            0\n",
       "market               0\n",
       "repeated             0\n",
       "canceled_book        0\n",
       "not canceled_book    0\n",
       "price                0\n",
       "special_requests     0\n",
       "date                 0\n",
       "output               0\n",
       "dtype: int64"
      ]
     },
     "execution_count": 511,
     "metadata": {},
     "output_type": "execute_result"
    }
   ],
   "source": [
    "data.isna().sum()"
   ]
  },
  {
   "cell_type": "code",
   "execution_count": 512,
   "id": "d8de830f",
   "metadata": {},
   "outputs": [
    {
     "data": {
      "text/html": [
       "<div>\n",
       "<style scoped>\n",
       "    .dataframe tbody tr th:only-of-type {\n",
       "        vertical-align: middle;\n",
       "    }\n",
       "\n",
       "    .dataframe tbody tr th {\n",
       "        vertical-align: top;\n",
       "    }\n",
       "\n",
       "    .dataframe thead th {\n",
       "        text-align: right;\n",
       "    }\n",
       "</style>\n",
       "<table border=\"1\" class=\"dataframe\">\n",
       "  <thead>\n",
       "    <tr style=\"text-align: right;\">\n",
       "      <th></th>\n",
       "      <th>id</th>\n",
       "      <th>meal</th>\n",
       "      <th>room_type</th>\n",
       "      <th>market</th>\n",
       "      <th>date</th>\n",
       "      <th>output</th>\n",
       "    </tr>\n",
       "  </thead>\n",
       "  <tbody>\n",
       "    <tr>\n",
       "      <th>0</th>\n",
       "      <td>INN00001</td>\n",
       "      <td>Meal Plan 1</td>\n",
       "      <td>Room_Type 1</td>\n",
       "      <td>Offline</td>\n",
       "      <td>10/2/2015</td>\n",
       "      <td>Not_Canceled</td>\n",
       "    </tr>\n",
       "    <tr>\n",
       "      <th>1</th>\n",
       "      <td>INN00002</td>\n",
       "      <td>Not Selected</td>\n",
       "      <td>Room_Type 1</td>\n",
       "      <td>Online</td>\n",
       "      <td>11/6/2018</td>\n",
       "      <td>Not_Canceled</td>\n",
       "    </tr>\n",
       "    <tr>\n",
       "      <th>2</th>\n",
       "      <td>INN00003</td>\n",
       "      <td>Meal Plan 1</td>\n",
       "      <td>Room_Type 1</td>\n",
       "      <td>Online</td>\n",
       "      <td>2/28/2018</td>\n",
       "      <td>Canceled</td>\n",
       "    </tr>\n",
       "    <tr>\n",
       "      <th>3</th>\n",
       "      <td>INN00004</td>\n",
       "      <td>Meal Plan 1</td>\n",
       "      <td>Room_Type 1</td>\n",
       "      <td>Online</td>\n",
       "      <td>5/20/2017</td>\n",
       "      <td>Canceled</td>\n",
       "    </tr>\n",
       "    <tr>\n",
       "      <th>4</th>\n",
       "      <td>INN00005</td>\n",
       "      <td>Not Selected</td>\n",
       "      <td>Room_Type 1</td>\n",
       "      <td>Online</td>\n",
       "      <td>4/11/2018</td>\n",
       "      <td>Canceled</td>\n",
       "    </tr>\n",
       "  </tbody>\n",
       "</table>\n",
       "</div>"
      ],
      "text/plain": [
       "         id          meal    room_type   market       date        output\n",
       "0  INN00001   Meal Plan 1  Room_Type 1  Offline  10/2/2015  Not_Canceled\n",
       "1  INN00002  Not Selected  Room_Type 1   Online  11/6/2018  Not_Canceled\n",
       "2  INN00003   Meal Plan 1  Room_Type 1   Online  2/28/2018      Canceled\n",
       "3  INN00004   Meal Plan 1  Room_Type 1   Online  5/20/2017      Canceled\n",
       "4  INN00005  Not Selected  Room_Type 1   Online  4/11/2018      Canceled"
      ]
     },
     "execution_count": 512,
     "metadata": {},
     "output_type": "execute_result"
    }
   ],
   "source": [
    "data.select_dtypes('object').head()"
   ]
  },
  {
   "cell_type": "code",
   "execution_count": 513,
   "id": "b73d4045",
   "metadata": {},
   "outputs": [
    {
     "name": "stdout",
     "output_type": "stream",
     "text": [
      "id :  34712\n",
      "meal :  3\n",
      "room_type :  6\n",
      "market :  3\n",
      "date :  553\n",
      "output :  2\n"
     ]
    }
   ],
   "source": [
    "for i in ['id','meal','room_type','market','date','output']:\n",
    "  print(i,': ',data[i].nunique())"
   ]
  },
  {
   "cell_type": "markdown",
   "id": "6eebf8b7",
   "metadata": {},
   "source": [
    "# **handeling outliers**"
   ]
  },
  {
   "cell_type": "code",
   "execution_count": 514,
   "id": "4fe85e91",
   "metadata": {},
   "outputs": [
    {
     "data": {
      "text/plain": [
       "<Axes: >"
      ]
     },
     "execution_count": 514,
     "metadata": {},
     "output_type": "execute_result"
    },
    {
     "data": {
      "image/png": "[encoded data removed]",
      "text/plain": [
       "<Figure size 640x480 with 1 Axes>"
      ]
     },
     "metadata": {},
     "output_type": "display_data"
    }
   ],
   "source": [
    "sns.boxplot(data=data,orient='h')"
   ]
  },
  {
   "cell_type": "code",
   "execution_count": 515,
   "id": "1c6efcd6",
   "metadata": {},
   "outputs": [],
   "source": [
    "def handle_outliers(data, method='iqr', threshold=1.5, columns=None):\n",
    "    if columns is None:\n",
    "        columns = data.columns if isinstance(data, pd.DataFrame) else [data.name]\n",
    "\n",
    "    if method == 'iqr':\n",
    "        for column in columns:\n",
    "            q1 = data[column].quantile(0.25)\n",
    "            q3 = data[column].quantile(0.75)\n",
    "            iqr = q3 - q1\n",
    "            lower_bound = q1 - threshold * iqr\n",
    "            upper_bound = q3 + threshold * iqr\n",
    "            data = data[(data[column] >= lower_bound) & (data[column] <= upper_bound)]\n",
    "    elif method == 'z-score':\n",
    "        for column in columns:\n",
    "            z_scores = np.abs((data[column] - data[column].mean()) / data[column].std())\n",
    "            data = data[z_scores <= threshold]\n",
    "\n",
    "    return data"
   ]
  },
  {
   "cell_type": "code",
   "execution_count": 516,
   "id": "2626e709",
   "metadata": {},
   "outputs": [],
   "source": [
    "data=handle_outliers(data,method='z-score',columns=['price','lead_time'],threshold=1.5)"
   ]
  },
  {
   "cell_type": "code",
   "execution_count": 517,
   "id": "17b49262",
   "metadata": {},
   "outputs": [
    {
     "data": {
      "text/plain": [
       "<Axes: >"
      ]
     },
     "execution_count": 517,
     "metadata": {},
     "output_type": "execute_result"
    },
    {
     "data": {
      "image/png": "[encoded data removed]",
      "text/plain": [
       "<Figure size 640x480 with 1 Axes>"
      ]
     },
     "metadata": {},
     "output_type": "display_data"
    }
   ],
   "source": [
    "sns.boxplot(data=data,orient='h')"
   ]
  },
  {
   "cell_type": "markdown",
   "id": "5dd93ac3",
   "metadata": {},
   "source": [
    "# **visualization**"
   ]
  },
  {
   "cell_type": "code",
   "execution_count": 518,
   "id": "a3037e89",
   "metadata": {},
   "outputs": [
    {
     "data": {
      "image/png": "[encoded data removed]",
      "text/plain": [
       "<Figure size 640x480 with 1 Axes>"
      ]
     },
     "metadata": {},
     "output_type": "display_data"
    }
   ],
   "source": [
    "custom_palette = sns.color_palette(\"dark\", 8)\n",
    "ax=sns.countplot(data=data,x='output',palette=custom_palette)\n",
    "ax.set_title('Reservation status count')\n",
    "ax.set_xlabel('')\n",
    "ax.set_ylabel('')\n",
    "plt.show()"
   ]
  },
  {
   "cell_type": "code",
   "execution_count": 519,
   "id": "c9b0e960",
   "metadata": {},
   "outputs": [
    {
     "data": {
      "text/plain": [
       "Text(0.5, 1.0, 'Reservation market count')"
      ]
     },
     "execution_count": 519,
     "metadata": {},
     "output_type": "execute_result"
    },
    {
     "data": {
      "image/png": "[encoded data removed]",
      "text/plain": [
       "<Figure size 1000x400 with 1 Axes>"
      ]
     },
     "metadata": {},
     "output_type": "display_data"
    }
   ],
   "source": [
    "plt.figure(figsize=(10,4))\n",
    "ax=sns.countplot(data=data,x='market',hue='output',palette='Set1')\n",
    "ax.set_title('Reservation market count')"
   ]
  },
  {
   "cell_type": "code",
   "execution_count": null,
   "id": "5c9057b4",
   "metadata": {},
   "outputs": [],
   "source": []
  },
  {
   "cell_type": "code",
   "execution_count": 520,
   "id": "c57e10b3",
   "metadata": {},
   "outputs": [
    {
     "data": {
      "text/plain": [
       "<Axes: xlabel='lead_time', ylabel='special_requests'>"
      ]
     },
     "execution_count": 520,
     "metadata": {},
     "output_type": "execute_result"
    },
    {
     "data": {
      "image/png": "[encoded data removed]",
      "text/plain": [
       "<Figure size 640x480 with 1 Axes>"
      ]
     },
     "metadata": {},
     "output_type": "display_data"
    }
   ],
   "source": [
    "sns.scatterplot(data=data,x=\"lead_time\",y='special_requests',hue='output')"
   ]
  },
  {
   "cell_type": "code",
   "execution_count": 521,
   "id": "07f35104",
   "metadata": {},
   "outputs": [
    {
     "data": {
      "text/plain": [
       "Text(0.5, 1.0, 'Reservation parking count')"
      ]
     },
     "execution_count": 521,
     "metadata": {},
     "output_type": "execute_result"
    },
    {
     "data": {
      "image/png": "[encoded data removed]",
      "text/plain": [
       "<Figure size 640x480 with 1 Axes>"
      ]
     },
     "metadata": {},
     "output_type": "display_data"
    }
   ],
   "source": [
    "ax=sns.countplot(data=data,x='parking',hue='output',palette='Set2')\n",
    "ax.set_xticklabels(['parking','not parking'])\n",
    "ax.set_title('Reservation parking count')"
   ]
  },
  {
   "cell_type": "code",
   "execution_count": 522,
   "id": "3da496fe",
   "metadata": {},
   "outputs": [
    {
     "data": {
      "text/plain": [
       "Text(0.5, 1.0, 'Reservation special requests count')"
      ]
     },
     "execution_count": 522,
     "metadata": {},
     "output_type": "execute_result"
    },
    {
     "data": {
      "image/png": "[encoded data removed]",
      "text/plain": [
       "<Figure size 640x480 with 1 Axes>"
      ]
     },
     "metadata": {},
     "output_type": "display_data"
    }
   ],
   "source": [
    "ax=sns.countplot(data=data,x='special_requests',hue='output',palette='Set3')\n",
    "ax.set_title('Reservation special requests count')"
   ]
  },
  {
   "cell_type": "code",
   "execution_count": 523,
   "id": "f6f96ec8",
   "metadata": {},
   "outputs": [
    {
     "data": {
      "text/plain": [
       "<Axes: xlabel='week_night', ylabel='count'>"
      ]
     },
     "execution_count": 523,
     "metadata": {},
     "output_type": "execute_result"
    },
    {
     "data": {
      "image/png": "[encoded data removed]",
      "text/plain": [
       "<Figure size 640x480 with 1 Axes>"
      ]
     },
     "metadata": {},
     "output_type": "display_data"
    }
   ],
   "source": [
    "sns.countplot(data=data,x='week_night',hue='output')"
   ]
  },
  {
   "cell_type": "code",
   "execution_count": 524,
   "id": "869f69a5",
   "metadata": {},
   "outputs": [
    {
     "data": {
      "image/png": "[encoded data removed]",
      "text/plain": [
       "<Figure size 640x480 with 1 Axes>"
      ]
     },
     "metadata": {},
     "output_type": "display_data"
    }
   ],
   "source": [
    "sns.violinplot(x='room_type', y='lead_time', data=data, hue='output', split=True)\n",
    "plt.xticks(rotation=90)\n",
    "plt.show()"
   ]
  },
  {
   "cell_type": "code",
   "execution_count": 525,
   "id": "bb9d4dd6",
   "metadata": {},
   "outputs": [
    {
     "data": {
      "image/png": "[encoded data removed]",
      "text/plain": [
       "<Figure size 640x480 with 1 Axes>"
      ]
     },
     "metadata": {},
     "output_type": "display_data"
    }
   ],
   "source": [
    "sns.countplot(x='meal', hue='output', data=data)\n",
    "plt.show()"
   ]
  },
  {
   "cell_type": "code",
   "execution_count": 462,
   "id": "96b56841",
   "metadata": {},
   "outputs": [
    {
     "data": {
      "image/png": "[encoded data removed]",
      "text/plain": [
       "<Figure size 640x480 with 1 Axes>"
      ]
     },
     "metadata": {},
     "output_type": "display_data"
    }
   ],
   "source": [
    "sns.countplot(x='room_type', hue='output', data=data)\n",
    "plt.xticks(rotation=90)\n",
    "plt.show()"
   ]
  },
  {
   "cell_type": "code",
   "execution_count": 463,
   "id": "7ec2b439",
   "metadata": {},
   "outputs": [
    {
     "data": {
      "image/png": "[encoded data removed]",
      "text/plain": [
       "<Figure size 640x480 with 1 Axes>"
      ]
     },
     "metadata": {},
     "output_type": "display_data"
    }
   ],
   "source": [
    "sns.boxplot(x='output', y='price', data=data)\n",
    "plt.show()"
   ]
  },
  {
   "cell_type": "code",
   "execution_count": 464,
   "id": "0e445381",
   "metadata": {},
   "outputs": [
    {
     "data": {
      "image/png": "[encoded data removed]",
      "text/plain": [
       "<Figure size 640x480 with 1 Axes>"
      ]
     },
     "metadata": {},
     "output_type": "display_data"
    }
   ],
   "source": [
    "sns.countplot(x='market', hue='output', data=data)\n",
    "plt.show()"
   ]
  },
  {
   "cell_type": "markdown",
   "id": "85769f90",
   "metadata": {},
   "source": [
    "## **Encoding**"
   ]
  },
  {
   "cell_type": "code",
   "execution_count": 465,
   "id": "1f35c06f",
   "metadata": {},
   "outputs": [],
   "source": [
    "data.drop([\"id\",'date'],axis=1,inplace=True)"
   ]
  },
  {
   "cell_type": "code",
   "execution_count": 466,
   "id": "e9dc0ea6",
   "metadata": {},
   "outputs": [],
   "source": [
    "for col in data.select_dtypes('object').columns:\n",
    "    data[col]=LabelEncoder().fit_transform(data[col])"
   ]
  },
  {
   "cell_type": "code",
   "execution_count": 467,
   "id": "64b59f67",
   "metadata": {},
   "outputs": [
    {
     "data": {
      "text/html": [
       "<div>\n",
       "<style scoped>\n",
       "    .dataframe tbody tr th:only-of-type {\n",
       "        vertical-align: middle;\n",
       "    }\n",
       "\n",
       "    .dataframe tbody tr th {\n",
       "        vertical-align: top;\n",
       "    }\n",
       "\n",
       "    .dataframe thead th {\n",
       "        text-align: right;\n",
       "    }\n",
       "</style>\n",
       "<table border=\"1\" class=\"dataframe\">\n",
       "  <thead>\n",
       "    <tr style=\"text-align: right;\">\n",
       "      <th></th>\n",
       "      <th>adults</th>\n",
       "      <th>children</th>\n",
       "      <th>weekend_nights</th>\n",
       "      <th>week_night</th>\n",
       "      <th>meal</th>\n",
       "      <th>parking</th>\n",
       "      <th>room_type</th>\n",
       "      <th>lead_time</th>\n",
       "      <th>market</th>\n",
       "      <th>repeated</th>\n",
       "      <th>canceled_book</th>\n",
       "      <th>not canceled_book</th>\n",
       "      <th>price</th>\n",
       "      <th>special_requests</th>\n",
       "      <th>output</th>\n",
       "    </tr>\n",
       "  </thead>\n",
       "  <tbody>\n",
       "    <tr>\n",
       "      <th>1</th>\n",
       "      <td>1</td>\n",
       "      <td>0</td>\n",
       "      <td>1</td>\n",
       "      <td>3</td>\n",
       "      <td>2</td>\n",
       "      <td>0</td>\n",
       "      <td>0</td>\n",
       "      <td>5</td>\n",
       "      <td>2</td>\n",
       "      <td>0</td>\n",
       "      <td>0</td>\n",
       "      <td>0</td>\n",
       "      <td>106</td>\n",
       "      <td>1</td>\n",
       "      <td>1</td>\n",
       "    </tr>\n",
       "    <tr>\n",
       "      <th>3</th>\n",
       "      <td>1</td>\n",
       "      <td>0</td>\n",
       "      <td>0</td>\n",
       "      <td>2</td>\n",
       "      <td>0</td>\n",
       "      <td>0</td>\n",
       "      <td>0</td>\n",
       "      <td>211</td>\n",
       "      <td>2</td>\n",
       "      <td>0</td>\n",
       "      <td>0</td>\n",
       "      <td>0</td>\n",
       "      <td>100</td>\n",
       "      <td>1</td>\n",
       "      <td>0</td>\n",
       "    </tr>\n",
       "    <tr>\n",
       "      <th>4</th>\n",
       "      <td>1</td>\n",
       "      <td>0</td>\n",
       "      <td>1</td>\n",
       "      <td>2</td>\n",
       "      <td>2</td>\n",
       "      <td>0</td>\n",
       "      <td>0</td>\n",
       "      <td>48</td>\n",
       "      <td>2</td>\n",
       "      <td>0</td>\n",
       "      <td>0</td>\n",
       "      <td>0</td>\n",
       "      <td>77</td>\n",
       "      <td>0</td>\n",
       "      <td>0</td>\n",
       "    </tr>\n",
       "    <tr>\n",
       "      <th>6</th>\n",
       "      <td>1</td>\n",
       "      <td>1</td>\n",
       "      <td>1</td>\n",
       "      <td>4</td>\n",
       "      <td>0</td>\n",
       "      <td>0</td>\n",
       "      <td>0</td>\n",
       "      <td>34</td>\n",
       "      <td>2</td>\n",
       "      <td>0</td>\n",
       "      <td>0</td>\n",
       "      <td>0</td>\n",
       "      <td>107</td>\n",
       "      <td>1</td>\n",
       "      <td>1</td>\n",
       "    </tr>\n",
       "    <tr>\n",
       "      <th>7</th>\n",
       "      <td>3</td>\n",
       "      <td>0</td>\n",
       "      <td>1</td>\n",
       "      <td>3</td>\n",
       "      <td>0</td>\n",
       "      <td>0</td>\n",
       "      <td>2</td>\n",
       "      <td>83</td>\n",
       "      <td>2</td>\n",
       "      <td>0</td>\n",
       "      <td>0</td>\n",
       "      <td>0</td>\n",
       "      <td>105</td>\n",
       "      <td>1</td>\n",
       "      <td>1</td>\n",
       "    </tr>\n",
       "    <tr>\n",
       "      <th>...</th>\n",
       "      <td>...</td>\n",
       "      <td>...</td>\n",
       "      <td>...</td>\n",
       "      <td>...</td>\n",
       "      <td>...</td>\n",
       "      <td>...</td>\n",
       "      <td>...</td>\n",
       "      <td>...</td>\n",
       "      <td>...</td>\n",
       "      <td>...</td>\n",
       "      <td>...</td>\n",
       "      <td>...</td>\n",
       "      <td>...</td>\n",
       "      <td>...</td>\n",
       "      <td>...</td>\n",
       "    </tr>\n",
       "    <tr>\n",
       "      <th>36279</th>\n",
       "      <td>2</td>\n",
       "      <td>0</td>\n",
       "      <td>1</td>\n",
       "      <td>1</td>\n",
       "      <td>2</td>\n",
       "      <td>0</td>\n",
       "      <td>0</td>\n",
       "      <td>48</td>\n",
       "      <td>2</td>\n",
       "      <td>0</td>\n",
       "      <td>0</td>\n",
       "      <td>0</td>\n",
       "      <td>94</td>\n",
       "      <td>0</td>\n",
       "      <td>0</td>\n",
       "    </tr>\n",
       "    <tr>\n",
       "      <th>36281</th>\n",
       "      <td>2</td>\n",
       "      <td>0</td>\n",
       "      <td>1</td>\n",
       "      <td>3</td>\n",
       "      <td>0</td>\n",
       "      <td>0</td>\n",
       "      <td>0</td>\n",
       "      <td>34</td>\n",
       "      <td>2</td>\n",
       "      <td>0</td>\n",
       "      <td>0</td>\n",
       "      <td>0</td>\n",
       "      <td>107</td>\n",
       "      <td>1</td>\n",
       "      <td>1</td>\n",
       "    </tr>\n",
       "    <tr>\n",
       "      <th>36282</th>\n",
       "      <td>2</td>\n",
       "      <td>0</td>\n",
       "      <td>1</td>\n",
       "      <td>3</td>\n",
       "      <td>0</td>\n",
       "      <td>0</td>\n",
       "      <td>2</td>\n",
       "      <td>83</td>\n",
       "      <td>2</td>\n",
       "      <td>0</td>\n",
       "      <td>0</td>\n",
       "      <td>0</td>\n",
       "      <td>105</td>\n",
       "      <td>1</td>\n",
       "      <td>1</td>\n",
       "    </tr>\n",
       "    <tr>\n",
       "      <th>36283</th>\n",
       "      <td>3</td>\n",
       "      <td>0</td>\n",
       "      <td>0</td>\n",
       "      <td>4</td>\n",
       "      <td>0</td>\n",
       "      <td>0</td>\n",
       "      <td>0</td>\n",
       "      <td>121</td>\n",
       "      <td>1</td>\n",
       "      <td>0</td>\n",
       "      <td>0</td>\n",
       "      <td>0</td>\n",
       "      <td>96</td>\n",
       "      <td>1</td>\n",
       "      <td>1</td>\n",
       "    </tr>\n",
       "    <tr>\n",
       "      <th>36284</th>\n",
       "      <td>2</td>\n",
       "      <td>0</td>\n",
       "      <td>0</td>\n",
       "      <td>5</td>\n",
       "      <td>0</td>\n",
       "      <td>0</td>\n",
       "      <td>2</td>\n",
       "      <td>44</td>\n",
       "      <td>2</td>\n",
       "      <td>0</td>\n",
       "      <td>0</td>\n",
       "      <td>0</td>\n",
       "      <td>133</td>\n",
       "      <td>3</td>\n",
       "      <td>1</td>\n",
       "    </tr>\n",
       "  </tbody>\n",
       "</table>\n",
       "<p>28385 rows × 15 columns</p>\n",
       "</div>"
      ],
      "text/plain": [
       "       adults  children  weekend_nights  week_night  meal  parking  room_type  \\\n",
       "1           1         0               1           3     2        0          0   \n",
       "3           1         0               0           2     0        0          0   \n",
       "4           1         0               1           2     2        0          0   \n",
       "6           1         1               1           4     0        0          0   \n",
       "7           3         0               1           3     0        0          2   \n",
       "...       ...       ...             ...         ...   ...      ...        ...   \n",
       "36279       2         0               1           1     2        0          0   \n",
       "36281       2         0               1           3     0        0          0   \n",
       "36282       2         0               1           3     0        0          2   \n",
       "36283       3         0               0           4     0        0          0   \n",
       "36284       2         0               0           5     0        0          2   \n",
       "\n",
       "       lead_time  market  repeated  canceled_book  not canceled_book  price  \\\n",
       "1              5       2         0              0                  0    106   \n",
       "3            211       2         0              0                  0    100   \n",
       "4             48       2         0              0                  0     77   \n",
       "6             34       2         0              0                  0    107   \n",
       "7             83       2         0              0                  0    105   \n",
       "...          ...     ...       ...            ...                ...    ...   \n",
       "36279         48       2         0              0                  0     94   \n",
       "36281         34       2         0              0                  0    107   \n",
       "36282         83       2         0              0                  0    105   \n",
       "36283        121       1         0              0                  0     96   \n",
       "36284         44       2         0              0                  0    133   \n",
       "\n",
       "       special_requests  output  \n",
       "1                     1       1  \n",
       "3                     1       0  \n",
       "4                     0       0  \n",
       "6                     1       1  \n",
       "7                     1       1  \n",
       "...                 ...     ...  \n",
       "36279                 0       0  \n",
       "36281                 1       1  \n",
       "36282                 1       1  \n",
       "36283                 1       1  \n",
       "36284                 3       1  \n",
       "\n",
       "[28385 rows x 15 columns]"
      ]
     },
     "execution_count": 467,
     "metadata": {},
     "output_type": "execute_result"
    }
   ],
   "source": [
    "data"
   ]
  },
  {
   "cell_type": "markdown",
   "id": "38e2d836",
   "metadata": {},
   "source": [
    "## **Rescaling**"
   ]
  },
  {
   "cell_type": "code",
   "execution_count": 468,
   "id": "105048ac",
   "metadata": {},
   "outputs": [],
   "source": [
    "cols_to_rescale=data.columns\n",
    "data[cols_to_rescale]=MinMaxScaler().fit_transform(data[cols_to_rescale])"
   ]
  },
  {
   "cell_type": "code",
   "execution_count": 469,
   "id": "d7673958",
   "metadata": {},
   "outputs": [
    {
     "data": {
      "text/html": [
       "<div>\n",
       "<style scoped>\n",
       "    .dataframe tbody tr th:only-of-type {\n",
       "        vertical-align: middle;\n",
       "    }\n",
       "\n",
       "    .dataframe tbody tr th {\n",
       "        vertical-align: top;\n",
       "    }\n",
       "\n",
       "    .dataframe thead th {\n",
       "        text-align: right;\n",
       "    }\n",
       "</style>\n",
       "<table border=\"1\" class=\"dataframe\">\n",
       "  <thead>\n",
       "    <tr style=\"text-align: right;\">\n",
       "      <th></th>\n",
       "      <th>adults</th>\n",
       "      <th>children</th>\n",
       "      <th>weekend_nights</th>\n",
       "      <th>week_night</th>\n",
       "      <th>meal</th>\n",
       "      <th>parking</th>\n",
       "      <th>room_type</th>\n",
       "      <th>lead_time</th>\n",
       "      <th>market</th>\n",
       "      <th>repeated</th>\n",
       "      <th>canceled_book</th>\n",
       "      <th>not canceled_book</th>\n",
       "      <th>price</th>\n",
       "      <th>special_requests</th>\n",
       "      <th>output</th>\n",
       "    </tr>\n",
       "  </thead>\n",
       "  <tbody>\n",
       "    <tr>\n",
       "      <th>1</th>\n",
       "      <td>0.0</td>\n",
       "      <td>0.0</td>\n",
       "      <td>0.166667</td>\n",
       "      <td>0.200000</td>\n",
       "      <td>1.0</td>\n",
       "      <td>0.0</td>\n",
       "      <td>0.0</td>\n",
       "      <td>0.022624</td>\n",
       "      <td>1.0</td>\n",
       "      <td>0.0</td>\n",
       "      <td>0.0</td>\n",
       "      <td>0.0</td>\n",
       "      <td>0.51</td>\n",
       "      <td>0.333333</td>\n",
       "      <td>1.0</td>\n",
       "    </tr>\n",
       "    <tr>\n",
       "      <th>3</th>\n",
       "      <td>0.0</td>\n",
       "      <td>0.0</td>\n",
       "      <td>0.000000</td>\n",
       "      <td>0.133333</td>\n",
       "      <td>0.0</td>\n",
       "      <td>0.0</td>\n",
       "      <td>0.0</td>\n",
       "      <td>0.954751</td>\n",
       "      <td>1.0</td>\n",
       "      <td>0.0</td>\n",
       "      <td>0.0</td>\n",
       "      <td>0.0</td>\n",
       "      <td>0.45</td>\n",
       "      <td>0.333333</td>\n",
       "      <td>0.0</td>\n",
       "    </tr>\n",
       "    <tr>\n",
       "      <th>4</th>\n",
       "      <td>0.0</td>\n",
       "      <td>0.0</td>\n",
       "      <td>0.166667</td>\n",
       "      <td>0.133333</td>\n",
       "      <td>1.0</td>\n",
       "      <td>0.0</td>\n",
       "      <td>0.0</td>\n",
       "      <td>0.217195</td>\n",
       "      <td>1.0</td>\n",
       "      <td>0.0</td>\n",
       "      <td>0.0</td>\n",
       "      <td>0.0</td>\n",
       "      <td>0.22</td>\n",
       "      <td>0.000000</td>\n",
       "      <td>0.0</td>\n",
       "    </tr>\n",
       "    <tr>\n",
       "      <th>6</th>\n",
       "      <td>0.0</td>\n",
       "      <td>0.5</td>\n",
       "      <td>0.166667</td>\n",
       "      <td>0.266667</td>\n",
       "      <td>0.0</td>\n",
       "      <td>0.0</td>\n",
       "      <td>0.0</td>\n",
       "      <td>0.153846</td>\n",
       "      <td>1.0</td>\n",
       "      <td>0.0</td>\n",
       "      <td>0.0</td>\n",
       "      <td>0.0</td>\n",
       "      <td>0.52</td>\n",
       "      <td>0.333333</td>\n",
       "      <td>1.0</td>\n",
       "    </tr>\n",
       "    <tr>\n",
       "      <th>7</th>\n",
       "      <td>1.0</td>\n",
       "      <td>0.0</td>\n",
       "      <td>0.166667</td>\n",
       "      <td>0.200000</td>\n",
       "      <td>0.0</td>\n",
       "      <td>0.0</td>\n",
       "      <td>0.4</td>\n",
       "      <td>0.375566</td>\n",
       "      <td>1.0</td>\n",
       "      <td>0.0</td>\n",
       "      <td>0.0</td>\n",
       "      <td>0.0</td>\n",
       "      <td>0.50</td>\n",
       "      <td>0.333333</td>\n",
       "      <td>1.0</td>\n",
       "    </tr>\n",
       "    <tr>\n",
       "      <th>...</th>\n",
       "      <td>...</td>\n",
       "      <td>...</td>\n",
       "      <td>...</td>\n",
       "      <td>...</td>\n",
       "      <td>...</td>\n",
       "      <td>...</td>\n",
       "      <td>...</td>\n",
       "      <td>...</td>\n",
       "      <td>...</td>\n",
       "      <td>...</td>\n",
       "      <td>...</td>\n",
       "      <td>...</td>\n",
       "      <td>...</td>\n",
       "      <td>...</td>\n",
       "      <td>...</td>\n",
       "    </tr>\n",
       "    <tr>\n",
       "      <th>36279</th>\n",
       "      <td>0.5</td>\n",
       "      <td>0.0</td>\n",
       "      <td>0.166667</td>\n",
       "      <td>0.066667</td>\n",
       "      <td>1.0</td>\n",
       "      <td>0.0</td>\n",
       "      <td>0.0</td>\n",
       "      <td>0.217195</td>\n",
       "      <td>1.0</td>\n",
       "      <td>0.0</td>\n",
       "      <td>0.0</td>\n",
       "      <td>0.0</td>\n",
       "      <td>0.39</td>\n",
       "      <td>0.000000</td>\n",
       "      <td>0.0</td>\n",
       "    </tr>\n",
       "    <tr>\n",
       "      <th>36281</th>\n",
       "      <td>0.5</td>\n",
       "      <td>0.0</td>\n",
       "      <td>0.166667</td>\n",
       "      <td>0.200000</td>\n",
       "      <td>0.0</td>\n",
       "      <td>0.0</td>\n",
       "      <td>0.0</td>\n",
       "      <td>0.153846</td>\n",
       "      <td>1.0</td>\n",
       "      <td>0.0</td>\n",
       "      <td>0.0</td>\n",
       "      <td>0.0</td>\n",
       "      <td>0.52</td>\n",
       "      <td>0.333333</td>\n",
       "      <td>1.0</td>\n",
       "    </tr>\n",
       "    <tr>\n",
       "      <th>36282</th>\n",
       "      <td>0.5</td>\n",
       "      <td>0.0</td>\n",
       "      <td>0.166667</td>\n",
       "      <td>0.200000</td>\n",
       "      <td>0.0</td>\n",
       "      <td>0.0</td>\n",
       "      <td>0.4</td>\n",
       "      <td>0.375566</td>\n",
       "      <td>1.0</td>\n",
       "      <td>0.0</td>\n",
       "      <td>0.0</td>\n",
       "      <td>0.0</td>\n",
       "      <td>0.50</td>\n",
       "      <td>0.333333</td>\n",
       "      <td>1.0</td>\n",
       "    </tr>\n",
       "    <tr>\n",
       "      <th>36283</th>\n",
       "      <td>1.0</td>\n",
       "      <td>0.0</td>\n",
       "      <td>0.000000</td>\n",
       "      <td>0.266667</td>\n",
       "      <td>0.0</td>\n",
       "      <td>0.0</td>\n",
       "      <td>0.0</td>\n",
       "      <td>0.547511</td>\n",
       "      <td>0.5</td>\n",
       "      <td>0.0</td>\n",
       "      <td>0.0</td>\n",
       "      <td>0.0</td>\n",
       "      <td>0.41</td>\n",
       "      <td>0.333333</td>\n",
       "      <td>1.0</td>\n",
       "    </tr>\n",
       "    <tr>\n",
       "      <th>36284</th>\n",
       "      <td>0.5</td>\n",
       "      <td>0.0</td>\n",
       "      <td>0.000000</td>\n",
       "      <td>0.333333</td>\n",
       "      <td>0.0</td>\n",
       "      <td>0.0</td>\n",
       "      <td>0.4</td>\n",
       "      <td>0.199095</td>\n",
       "      <td>1.0</td>\n",
       "      <td>0.0</td>\n",
       "      <td>0.0</td>\n",
       "      <td>0.0</td>\n",
       "      <td>0.78</td>\n",
       "      <td>1.000000</td>\n",
       "      <td>1.0</td>\n",
       "    </tr>\n",
       "  </tbody>\n",
       "</table>\n",
       "<p>28385 rows × 15 columns</p>\n",
       "</div>"
      ],
      "text/plain": [
       "       adults  children  weekend_nights  week_night  meal  parking  room_type  \\\n",
       "1         0.0       0.0        0.166667    0.200000   1.0      0.0        0.0   \n",
       "3         0.0       0.0        0.000000    0.133333   0.0      0.0        0.0   \n",
       "4         0.0       0.0        0.166667    0.133333   1.0      0.0        0.0   \n",
       "6         0.0       0.5        0.166667    0.266667   0.0      0.0        0.0   \n",
       "7         1.0       0.0        0.166667    0.200000   0.0      0.0        0.4   \n",
       "...       ...       ...             ...         ...   ...      ...        ...   \n",
       "36279     0.5       0.0        0.166667    0.066667   1.0      0.0        0.0   \n",
       "36281     0.5       0.0        0.166667    0.200000   0.0      0.0        0.0   \n",
       "36282     0.5       0.0        0.166667    0.200000   0.0      0.0        0.4   \n",
       "36283     1.0       0.0        0.000000    0.266667   0.0      0.0        0.0   \n",
       "36284     0.5       0.0        0.000000    0.333333   0.0      0.0        0.4   \n",
       "\n",
       "       lead_time  market  repeated  canceled_book  not canceled_book  price  \\\n",
       "1       0.022624     1.0       0.0            0.0                0.0   0.51   \n",
       "3       0.954751     1.0       0.0            0.0                0.0   0.45   \n",
       "4       0.217195     1.0       0.0            0.0                0.0   0.22   \n",
       "6       0.153846     1.0       0.0            0.0                0.0   0.52   \n",
       "7       0.375566     1.0       0.0            0.0                0.0   0.50   \n",
       "...          ...     ...       ...            ...                ...    ...   \n",
       "36279   0.217195     1.0       0.0            0.0                0.0   0.39   \n",
       "36281   0.153846     1.0       0.0            0.0                0.0   0.52   \n",
       "36282   0.375566     1.0       0.0            0.0                0.0   0.50   \n",
       "36283   0.547511     0.5       0.0            0.0                0.0   0.41   \n",
       "36284   0.199095     1.0       0.0            0.0                0.0   0.78   \n",
       "\n",
       "       special_requests  output  \n",
       "1              0.333333     1.0  \n",
       "3              0.333333     0.0  \n",
       "4              0.000000     0.0  \n",
       "6              0.333333     1.0  \n",
       "7              0.333333     1.0  \n",
       "...                 ...     ...  \n",
       "36279          0.000000     0.0  \n",
       "36281          0.333333     1.0  \n",
       "36282          0.333333     1.0  \n",
       "36283          0.333333     1.0  \n",
       "36284          1.000000     1.0  \n",
       "\n",
       "[28385 rows x 15 columns]"
      ]
     },
     "execution_count": 469,
     "metadata": {},
     "output_type": "execute_result"
    }
   ],
   "source": [
    "data"
   ]
  },
  {
   "cell_type": "markdown",
   "id": "042d1d37",
   "metadata": {},
   "source": [
    "## **Features engineering**"
   ]
  },
  {
   "cell_type": "code",
   "execution_count": 470,
   "id": "651f2687",
   "metadata": {},
   "outputs": [],
   "source": [
    "df=data"
   ]
  },
  {
   "cell_type": "code",
   "execution_count": 471,
   "id": "f8607e52",
   "metadata": {},
   "outputs": [],
   "source": [
    "df['num_of_people']=df['adults']+df['children']"
   ]
  },
  {
   "cell_type": "code",
   "execution_count": 472,
   "id": "edb03b7a",
   "metadata": {},
   "outputs": [],
   "source": [
    "df.drop(['adults','children'],axis=1,inplace=True)"
   ]
  },
  {
   "cell_type": "code",
   "execution_count": 473,
   "id": "11e7710c",
   "metadata": {},
   "outputs": [
    {
     "data": {
      "text/html": [
       "<div>\n",
       "<style scoped>\n",
       "    .dataframe tbody tr th:only-of-type {\n",
       "        vertical-align: middle;\n",
       "    }\n",
       "\n",
       "    .dataframe tbody tr th {\n",
       "        vertical-align: top;\n",
       "    }\n",
       "\n",
       "    .dataframe thead th {\n",
       "        text-align: right;\n",
       "    }\n",
       "</style>\n",
       "<table border=\"1\" class=\"dataframe\">\n",
       "  <thead>\n",
       "    <tr style=\"text-align: right;\">\n",
       "      <th></th>\n",
       "      <th>weekend_nights</th>\n",
       "      <th>week_night</th>\n",
       "      <th>meal</th>\n",
       "      <th>parking</th>\n",
       "      <th>room_type</th>\n",
       "      <th>lead_time</th>\n",
       "      <th>market</th>\n",
       "      <th>repeated</th>\n",
       "      <th>canceled_book</th>\n",
       "      <th>not canceled_book</th>\n",
       "      <th>price</th>\n",
       "      <th>special_requests</th>\n",
       "      <th>output</th>\n",
       "      <th>num_of_people</th>\n",
       "    </tr>\n",
       "  </thead>\n",
       "  <tbody>\n",
       "    <tr>\n",
       "      <th>1</th>\n",
       "      <td>0.166667</td>\n",
       "      <td>0.200000</td>\n",
       "      <td>1.0</td>\n",
       "      <td>0.0</td>\n",
       "      <td>0.0</td>\n",
       "      <td>0.022624</td>\n",
       "      <td>1.0</td>\n",
       "      <td>0.0</td>\n",
       "      <td>0.0</td>\n",
       "      <td>0.0</td>\n",
       "      <td>0.51</td>\n",
       "      <td>0.333333</td>\n",
       "      <td>1.0</td>\n",
       "      <td>0.0</td>\n",
       "    </tr>\n",
       "    <tr>\n",
       "      <th>3</th>\n",
       "      <td>0.000000</td>\n",
       "      <td>0.133333</td>\n",
       "      <td>0.0</td>\n",
       "      <td>0.0</td>\n",
       "      <td>0.0</td>\n",
       "      <td>0.954751</td>\n",
       "      <td>1.0</td>\n",
       "      <td>0.0</td>\n",
       "      <td>0.0</td>\n",
       "      <td>0.0</td>\n",
       "      <td>0.45</td>\n",
       "      <td>0.333333</td>\n",
       "      <td>0.0</td>\n",
       "      <td>0.0</td>\n",
       "    </tr>\n",
       "    <tr>\n",
       "      <th>4</th>\n",
       "      <td>0.166667</td>\n",
       "      <td>0.133333</td>\n",
       "      <td>1.0</td>\n",
       "      <td>0.0</td>\n",
       "      <td>0.0</td>\n",
       "      <td>0.217195</td>\n",
       "      <td>1.0</td>\n",
       "      <td>0.0</td>\n",
       "      <td>0.0</td>\n",
       "      <td>0.0</td>\n",
       "      <td>0.22</td>\n",
       "      <td>0.000000</td>\n",
       "      <td>0.0</td>\n",
       "      <td>0.0</td>\n",
       "    </tr>\n",
       "    <tr>\n",
       "      <th>6</th>\n",
       "      <td>0.166667</td>\n",
       "      <td>0.266667</td>\n",
       "      <td>0.0</td>\n",
       "      <td>0.0</td>\n",
       "      <td>0.0</td>\n",
       "      <td>0.153846</td>\n",
       "      <td>1.0</td>\n",
       "      <td>0.0</td>\n",
       "      <td>0.0</td>\n",
       "      <td>0.0</td>\n",
       "      <td>0.52</td>\n",
       "      <td>0.333333</td>\n",
       "      <td>1.0</td>\n",
       "      <td>0.5</td>\n",
       "    </tr>\n",
       "    <tr>\n",
       "      <th>7</th>\n",
       "      <td>0.166667</td>\n",
       "      <td>0.200000</td>\n",
       "      <td>0.0</td>\n",
       "      <td>0.0</td>\n",
       "      <td>0.4</td>\n",
       "      <td>0.375566</td>\n",
       "      <td>1.0</td>\n",
       "      <td>0.0</td>\n",
       "      <td>0.0</td>\n",
       "      <td>0.0</td>\n",
       "      <td>0.50</td>\n",
       "      <td>0.333333</td>\n",
       "      <td>1.0</td>\n",
       "      <td>1.0</td>\n",
       "    </tr>\n",
       "    <tr>\n",
       "      <th>...</th>\n",
       "      <td>...</td>\n",
       "      <td>...</td>\n",
       "      <td>...</td>\n",
       "      <td>...</td>\n",
       "      <td>...</td>\n",
       "      <td>...</td>\n",
       "      <td>...</td>\n",
       "      <td>...</td>\n",
       "      <td>...</td>\n",
       "      <td>...</td>\n",
       "      <td>...</td>\n",
       "      <td>...</td>\n",
       "      <td>...</td>\n",
       "      <td>...</td>\n",
       "    </tr>\n",
       "    <tr>\n",
       "      <th>36279</th>\n",
       "      <td>0.166667</td>\n",
       "      <td>0.066667</td>\n",
       "      <td>1.0</td>\n",
       "      <td>0.0</td>\n",
       "      <td>0.0</td>\n",
       "      <td>0.217195</td>\n",
       "      <td>1.0</td>\n",
       "      <td>0.0</td>\n",
       "      <td>0.0</td>\n",
       "      <td>0.0</td>\n",
       "      <td>0.39</td>\n",
       "      <td>0.000000</td>\n",
       "      <td>0.0</td>\n",
       "      <td>0.5</td>\n",
       "    </tr>\n",
       "    <tr>\n",
       "      <th>36281</th>\n",
       "      <td>0.166667</td>\n",
       "      <td>0.200000</td>\n",
       "      <td>0.0</td>\n",
       "      <td>0.0</td>\n",
       "      <td>0.0</td>\n",
       "      <td>0.153846</td>\n",
       "      <td>1.0</td>\n",
       "      <td>0.0</td>\n",
       "      <td>0.0</td>\n",
       "      <td>0.0</td>\n",
       "      <td>0.52</td>\n",
       "      <td>0.333333</td>\n",
       "      <td>1.0</td>\n",
       "      <td>0.5</td>\n",
       "    </tr>\n",
       "    <tr>\n",
       "      <th>36282</th>\n",
       "      <td>0.166667</td>\n",
       "      <td>0.200000</td>\n",
       "      <td>0.0</td>\n",
       "      <td>0.0</td>\n",
       "      <td>0.4</td>\n",
       "      <td>0.375566</td>\n",
       "      <td>1.0</td>\n",
       "      <td>0.0</td>\n",
       "      <td>0.0</td>\n",
       "      <td>0.0</td>\n",
       "      <td>0.50</td>\n",
       "      <td>0.333333</td>\n",
       "      <td>1.0</td>\n",
       "      <td>0.5</td>\n",
       "    </tr>\n",
       "    <tr>\n",
       "      <th>36283</th>\n",
       "      <td>0.000000</td>\n",
       "      <td>0.266667</td>\n",
       "      <td>0.0</td>\n",
       "      <td>0.0</td>\n",
       "      <td>0.0</td>\n",
       "      <td>0.547511</td>\n",
       "      <td>0.5</td>\n",
       "      <td>0.0</td>\n",
       "      <td>0.0</td>\n",
       "      <td>0.0</td>\n",
       "      <td>0.41</td>\n",
       "      <td>0.333333</td>\n",
       "      <td>1.0</td>\n",
       "      <td>1.0</td>\n",
       "    </tr>\n",
       "    <tr>\n",
       "      <th>36284</th>\n",
       "      <td>0.000000</td>\n",
       "      <td>0.333333</td>\n",
       "      <td>0.0</td>\n",
       "      <td>0.0</td>\n",
       "      <td>0.4</td>\n",
       "      <td>0.199095</td>\n",
       "      <td>1.0</td>\n",
       "      <td>0.0</td>\n",
       "      <td>0.0</td>\n",
       "      <td>0.0</td>\n",
       "      <td>0.78</td>\n",
       "      <td>1.000000</td>\n",
       "      <td>1.0</td>\n",
       "      <td>0.5</td>\n",
       "    </tr>\n",
       "  </tbody>\n",
       "</table>\n",
       "<p>28385 rows × 14 columns</p>\n",
       "</div>"
      ],
      "text/plain": [
       "       weekend_nights  week_night  meal  parking  room_type  lead_time  \\\n",
       "1            0.166667    0.200000   1.0      0.0        0.0   0.022624   \n",
       "3            0.000000    0.133333   0.0      0.0        0.0   0.954751   \n",
       "4            0.166667    0.133333   1.0      0.0        0.0   0.217195   \n",
       "6            0.166667    0.266667   0.0      0.0        0.0   0.153846   \n",
       "7            0.166667    0.200000   0.0      0.0        0.4   0.375566   \n",
       "...               ...         ...   ...      ...        ...        ...   \n",
       "36279        0.166667    0.066667   1.0      0.0        0.0   0.217195   \n",
       "36281        0.166667    0.200000   0.0      0.0        0.0   0.153846   \n",
       "36282        0.166667    0.200000   0.0      0.0        0.4   0.375566   \n",
       "36283        0.000000    0.266667   0.0      0.0        0.0   0.547511   \n",
       "36284        0.000000    0.333333   0.0      0.0        0.4   0.199095   \n",
       "\n",
       "       market  repeated  canceled_book  not canceled_book  price  \\\n",
       "1         1.0       0.0            0.0                0.0   0.51   \n",
       "3         1.0       0.0            0.0                0.0   0.45   \n",
       "4         1.0       0.0            0.0                0.0   0.22   \n",
       "6         1.0       0.0            0.0                0.0   0.52   \n",
       "7         1.0       0.0            0.0                0.0   0.50   \n",
       "...       ...       ...            ...                ...    ...   \n",
       "36279     1.0       0.0            0.0                0.0   0.39   \n",
       "36281     1.0       0.0            0.0                0.0   0.52   \n",
       "36282     1.0       0.0            0.0                0.0   0.50   \n",
       "36283     0.5       0.0            0.0                0.0   0.41   \n",
       "36284     1.0       0.0            0.0                0.0   0.78   \n",
       "\n",
       "       special_requests  output  num_of_people  \n",
       "1              0.333333     1.0            0.0  \n",
       "3              0.333333     0.0            0.0  \n",
       "4              0.000000     0.0            0.0  \n",
       "6              0.333333     1.0            0.5  \n",
       "7              0.333333     1.0            1.0  \n",
       "...                 ...     ...            ...  \n",
       "36279          0.000000     0.0            0.5  \n",
       "36281          0.333333     1.0            0.5  \n",
       "36282          0.333333     1.0            0.5  \n",
       "36283          0.333333     1.0            1.0  \n",
       "36284          1.000000     1.0            0.5  \n",
       "\n",
       "[28385 rows x 14 columns]"
      ]
     },
     "execution_count": 473,
     "metadata": {},
     "output_type": "execute_result"
    }
   ],
   "source": [
    "df"
   ]
  },
  {
   "cell_type": "markdown",
   "id": "3992d340",
   "metadata": {},
   "source": [
    "## **Splitting**"
   ]
  },
  {
   "cell_type": "code",
   "execution_count": 474,
   "id": "05666406",
   "metadata": {},
   "outputs": [],
   "source": [
    "x=df.drop('output',axis=1)\n",
    "y=df['output']"
   ]
  },
  {
   "cell_type": "code",
   "execution_count": 475,
   "id": "05b131aa",
   "metadata": {},
   "outputs": [],
   "source": [
    "X_train, X_test, y_train, y_test = train_test_split(x, y, test_size=0.2, random_state=42)"
   ]
  },
  {
   "cell_type": "code",
   "execution_count": null,
   "id": "1d57cebb",
   "metadata": {},
   "outputs": [],
   "source": []
  }
 ],
 "metadata": {
  "kernelspec": {
   "display_name": "Python 3 (ipykernel)",
   "language": "python",
   "name": "python3"
  },
  "language_info": {
   "codemirror_mode": {
    "name": "ipython",
    "version": 3
   },
   "file_extension": ".py",
   "mimetype": "text/x-python",
   "name": "python",
   "nbconvert_exporter": "python",
   "pygments_lexer": "ipython3",
   "version": "3.11.5"
  }
 },
 "nbformat": 4,
 "nbformat_minor": 5
}
